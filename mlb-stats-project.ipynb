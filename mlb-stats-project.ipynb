{
 "cells": [
  {
   "cell_type": "code",
   "execution_count": 4,
   "metadata": {},
   "outputs": [],
   "source": [
    "import pandas as pd\n",
    "import matplotlib.pyplot as plt\n",
    "import statsmodels.api as sm\n",
    "from statsmodels.formula.api import ols\n",
    "from scipy.stats import shapiro\n",
    "from statsmodels.stats.diagnostic import het_breuschpagan\n",
    "from statsmodels.stats.stattools import durbin_watson\n",
    "from sklearn.decomposition import PCA\n",
    "from sklearn.feature_selection import RFE\n",
    "import seaborn as sns\n",
    "import numpy as np\n"
   ]
  },
  {
   "attachments": {},
   "cell_type": "markdown",
   "metadata": {},
   "source": [
    "### Cargar Datos"
   ]
  },
  {
   "cell_type": "code",
   "execution_count": 5,
   "metadata": {},
   "outputs": [],
   "source": [
    "df = pd.read_csv('2022 MLB Player Stats - Pitching.csv', delimiter=';')"
   ]
  },
  {
   "attachments": {},
   "cell_type": "markdown",
   "metadata": {},
   "source": [
    "## Ejercicio 1"
   ]
  },
  {
   "attachments": {},
   "cell_type": "markdown",
   "metadata": {},
   "source": [
    "### Relación lineal o monótona con la variable **FIP**."
   ]
  },
  {
   "cell_type": "code",
   "execution_count": 6,
   "metadata": {},
   "outputs": [
    {
     "ename": "NameError",
     "evalue": "name 'stepwise' is not defined",
     "output_type": "error",
     "traceback": [
      "\u001b[0;31m---------------------------------------------------------------------------\u001b[0m",
      "\u001b[0;31mNameError\u001b[0m                                 Traceback (most recent call last)",
      "Cell \u001b[0;32mIn[6], line 7\u001b[0m\n\u001b[1;32m      3\u001b[0m al120h \u001b[39m=\u001b[39m al\u001b[39m.\u001b[39mloc[al[\u001b[39m'\u001b[39m\u001b[39mH\u001b[39m\u001b[39m'\u001b[39m] \u001b[39m>\u001b[39m \u001b[39m120\u001b[39m]\n\u001b[1;32m      5\u001b[0m al120h_num \u001b[39m=\u001b[39m al120h\u001b[39m.\u001b[39mselect_dtypes(include\u001b[39m=\u001b[39m[np\u001b[39m.\u001b[39mnumber])\n\u001b[0;32m----> 7\u001b[0m model, X \u001b[39m=\u001b[39m stepwise(al120h_num, \u001b[39m'\u001b[39m\u001b[39mFIP\u001b[39m\u001b[39m'\u001b[39m, \u001b[39m3\u001b[39m)\n\u001b[1;32m      9\u001b[0m \u001b[39m# print graphics\u001b[39;00m\n\u001b[1;32m     10\u001b[0m sns\u001b[39m.\u001b[39mpairplot(al120h_num, \n\u001b[1;32m     11\u001b[0m              x_vars\u001b[39m=\u001b[39m[column \u001b[39mfor\u001b[39;00m column \u001b[39min\u001b[39;00m X], \n\u001b[1;32m     12\u001b[0m              y_vars\u001b[39m=\u001b[39m\u001b[39m'\u001b[39m\u001b[39mFIP\u001b[39m\u001b[39m'\u001b[39m, height\u001b[39m=\u001b[39m\u001b[39m7\u001b[39m, aspect\u001b[39m=\u001b[39m\u001b[39m0.7\u001b[39m, kind\u001b[39m=\u001b[39m\u001b[39m'\u001b[39m\u001b[39mreg\u001b[39m\u001b[39m'\u001b[39m)\n",
      "\u001b[0;31mNameError\u001b[0m: name 'stepwise' is not defined"
     ]
    }
   ],
   "source": [
    "# Filtrando aquellos jugadores de la Liga Americana que hayan recibido más de 120 hits\n",
    "al = df.loc[df['Lg'] == 'AL']\n",
    "al120h = al.loc[al['H'] > 120]\n",
    "\n",
    "al120h_num = al120h.select_dtypes(include=[np.number])"
   ]
  },
  {
   "cell_type": "code",
   "execution_count": null,
   "metadata": {},
   "outputs": [],
   "source": [
    "def check_assumptions(model, X):\n",
    "    resid = model.resid\n",
    "    X = sm.add_constant(X)\n",
    "    assumptions = True\n",
    "\n",
    "    # Media de los residuos\n",
    "    mn = np.mean(resid)\n",
    "    assumptions = assumptions and (abs(mn) < 0.05)\n",
    "\n",
    "    # Independencia de los residuos\n",
    "    # Prueba de Durbin-Watson\n",
    "    dw = durbin_watson(resid)\n",
    "    assumptions = assumptions and (dw > 1.5 and dw < 2.5)\n",
    "    \n",
    "    # Homocedasticidad\n",
    "    # Prueba de Breusch-Pagan\n",
    "    bp = het_breuschpagan(resid, X)\n",
    "    assumptions = assumptions and (bp[1] > 0.05)\n",
    "\n",
    "    # Normalidad de los residuos\n",
    "    # Prueba de Shapiro-Wilk\n",
    "    sw = shapiro(resid)\n",
    "    assumptions = assumptions and (sw[1] > 0.05)\n",
    "\n",
    "    return assumptions"
   ]
  },
  {
   "cell_type": "code",
   "execution_count": null,
   "metadata": {},
   "outputs": [],
   "source": [
    "def compare_models(model1, model2):\n",
    "    # Calcular R-cuadrado ajustado\n",
    "    r1_adj = model1.rsquared_adj\n",
    "    r2_adj = model2.rsquared_adj\n",
    "\n",
    "    # Calcular la raíz del error cuadrático medio (RMSE)\n",
    "    rmse1 = np.sqrt(model1.mse_model)\n",
    "    rmse2 = np.sqrt(model2.mse_model)\n",
    "\n",
    "    return (r1_adj > r2_adj) and (rmse1 < rmse2)"
   ]
  },
  {
   "cell_type": "code",
   "execution_count": null,
   "metadata": {},
   "outputs": [],
   "source": [
    "def stepwise(df, var, t_values=3):\n",
    "    not_used = order_by_correlation(df, var)\n",
    "    used = [] + [not_used[0]]\n",
    "    not_used = not_used[1:]\n",
    "    X = [df[used[0]]]\n",
    "    X = pd.concat(X, axis=1)\n",
    "    y = df[var]\n",
    "    model = sm.OLS(y, X).fit()\n",
    "    for i in range(0, len(not_used)-1):\n",
    "        new_X = [df[variable] for variable in used + [not_used[i]]]\n",
    "        new_X = pd.concat(new_X, axis=1)\n",
    "        new_model = sm.OLS(y, new_X).fit()\n",
    "        if compare_models(new_model, model):\n",
    "            used = used + [not_used[i]]\n",
    "            not_used = not_used[:i] + not_used[i+1:]\n",
    "            model = new_model\n",
    "            X = new_X   \n",
    "            i = 0\n",
    "        if len(used) == t_values:\n",
    "            if check_assumptions(model, X):\n",
    "                return model, X\n",
    "        if i == len(not_used)-2:\n",
    "            if len(used) == 1:\n",
    "                return model, X\n",
    "            used = used[:-1]\n",
    "            i = 0\n",
    "\n",
    "def order_by_correlation(df, var):\n",
    "    rho = df.corr()\n",
    "    ans = [variable for variable in df if variable != var]\n",
    "    ans.sort(key=lambda x: abs(rho[x][var]), reverse=True)\n",
    "    return ans"
   ]
  },
  {
   "cell_type": "code",
   "execution_count": null,
   "metadata": {},
   "outputs": [],
   "source": [
    "model, X = stepwise(al120h_num, 'FIP', 3)\n",
    "\n",
    "# print graphics\n",
    "sns.pairplot(al120h_num, \n",
    "             x_vars=[column for column in X], \n",
    "             y_vars='FIP', height=7, aspect=0.7, kind='reg')\n",
    "\n",
    "print(model.summary())"
   ]
  },
  {
   "cell_type": "code",
   "execution_count": null,
   "metadata": {},
   "outputs": [],
   "source": [
    "rho = al120h_num.corr()\n",
    "\n",
    "finaldf = [al120h_num[variable] for variable in \n",
    "           al120h_num if abs(rho['FIP'][variable]) > 0.7]\n",
    "finaldf = pd.concat(finaldf, axis=1)\n",
    "\n",
    "X = [finaldf[variable] for variable in finaldf if variable != 'FIP']\n",
    "X = pd.concat(X, axis=1)\n",
    "y = finaldf['FIP']\n",
    "\n",
    "model = sm.OLS(y, X).fit()\n",
    "predictions = model.predict(X)\n",
    "\n",
    "for column in X:\n",
    "    sm.graphics.plot_regress_exog(model, column, fig=plt.figure(figsize=(12, 8)))\n",
    "\n",
    "print(model.summary())"
   ]
  },
  {
   "attachments": {},
   "cell_type": "markdown",
   "metadata": {},
   "source": [
    "## Ejercicio 2"
   ]
  },
  {
   "attachments": {},
   "cell_type": "markdown",
   "metadata": {},
   "source": [
    "### Análisis exploratorio de la variable **Age**, de los jugadores de la liga americana "
   ]
  },
  {
   "cell_type": "code",
   "execution_count": null,
   "metadata": {},
   "outputs": [],
   "source": [
    "nl = df.loc[df['Lg'] == 'NL']\n",
    "\n",
    "age = nl['Age']\n",
    "# Calcular estadísticos descriptivos univariados\n",
    "mean = age.mean()  # media\n",
    "median = age.median()  # mediana\n",
    "mode = age.mode()  # moda\n",
    "std = age.std()  # desviación estándar\n",
    "rank = age.max() - age.min()  # rango\n",
    "quantile = age.quantile([0.25, 0.5, 0.75])  # cuartiles\n",
    "iqr = quantile[0.75] - quantile[0.25]  # rango intercuartílico\n",
    "\n",
    "\n",
    "# Mostrar resultados\n",
    "print('Estadísticos descriptivos univariados')\n",
    "print('Media:', mean)\n",
    "print('Mediana:', median)\n",
    "print('Moda:', mode)\n",
    "print('Desviación estándar:', std)\n",
    "print('Rango:', rank)\n",
    "print('Cuartiles:', quantile)\n",
    "print('Rango intercuartílico:', iqr)\n",
    "# Crear histograma\n",
    "plt.hist(age, bins=10)\n",
    "plt.xlabel('Edad')\n",
    "plt.ylabel('Frecuencia')\n",
    "plt.title('Histograma de edad')\n",
    "\n",
    "# Crear diagrama de caja\n",
    "plt.figure()\n",
    "plt.boxplot(age, vert=False)\n",
    "plt.xlabel('Edad')\n",
    "plt.title('Diagrama de caja de edad')\n",
    "\n",
    "# Mostrar gráficos\n",
    "plt.show()\n"
   ]
  },
  {
   "attachments": {},
   "cell_type": "markdown",
   "metadata": {},
   "source": [
    "### Análisis exploratorio de la variable **Age**, por equipos, de los jugadores de la liga americana"
   ]
  },
  {
   "cell_type": "code",
   "execution_count": null,
   "metadata": {},
   "outputs": [],
   "source": [
    "# Agrupar los datos por equipo y calcular la media de la edad de los jugadores\n",
    "nl_age = nl.groupby('Tm')['Age'].mean()\n",
    "\n",
    "# Hacer un histograma de la edad media por equipo\n",
    "plt.hist(nl_age)\n",
    "plt.xlabel('Edad media')\n",
    "plt.ylabel('Frecuencia')\n",
    "plt.title('Histograma de la edad media por equipo de la Liga Nacional')\n",
    "plt.show()\n",
    "\n",
    "# Hacer un diagrama de caja de la edad de los jugadores por equipo\n",
    "sns.boxplot(x='Tm', y='Age', data=nl)\n",
    "plt.xlabel('Equipo')\n",
    "plt.ylabel('Edad')\n",
    "plt.title('Diagrama de caja de la edad de los jugadores por equipo de la Liga Nacional')\n",
    "plt.show()\n"
   ]
  },
  {
   "attachments": {},
   "cell_type": "markdown",
   "metadata": {},
   "source": [
    "### Test Shapiro"
   ]
  },
  {
   "cell_type": "code",
   "execution_count": null,
   "metadata": {},
   "outputs": [],
   "source": [
    "def test_shapiro(df, f):\n",
    "    b = True\n",
    "    # crear un bucle que recorra la lista\n",
    "    for i in set(f):\n",
    "\n",
    "        # seleccionar los datos de las edades de cada equipo\n",
    "        ages = df[df['Tm'] == i]['Age']\n",
    "\n",
    "        # realizar la prueba de Shapiro-Wilk\n",
    "        _, p = shapiro(ages)\n",
    "\n",
    "        # comparar el valor p con el nivel de significancia\n",
    "        if p > 0.01:\n",
    "            b = b and True\n",
    "        else:\n",
    "            print('Los datos del equipo %s no parecen normales' % i)\n",
    "            b = b and False\n",
    "\n",
    "    return b\n"
   ]
  },
  {
   "attachments": {},
   "cell_type": "markdown",
   "metadata": {},
   "source": [
    "### Test Bartlett"
   ]
  },
  {
   "cell_type": "code",
   "execution_count": null,
   "metadata": {},
   "outputs": [],
   "source": [
    "def test_bartlett(df, f):\n",
    "    ages=[]\n",
    "    # crear un bucle que recorra la lista\n",
    "    for i in set(f):\n",
    "\n",
    "        # seleccionar los datos de las edades de cada equipo\n",
    "        ages.append(df[df['Tm'] == i]['Age'])\n",
    "\n",
    "\n",
    "    #realizar la prueba de Bartlett\n",
    "    stat, p = bartlett(*ages)\n",
    "\n",
    "    print('Bartlett Estadístico: %.3f, Valor p: %.3f' % (stat, p))\n",
    "\n",
    "    #interpretar el valor p\n",
    "    if p > 0.01:\n",
    "        return True\n",
    "    else:\n",
    "        print('Las varianzas no parecen iguales')\n",
    "        return False\n"
   ]
  },
  {
   "attachments": {},
   "cell_type": "markdown",
   "metadata": {},
   "source": [
    "### Test Dw"
   ]
  },
  {
   "cell_type": "code",
   "execution_count": null,
   "metadata": {},
   "outputs": [],
   "source": [
    "def test_dw(r):\n",
    "    dw = durbin_watson(r)\n",
    "\n",
    "    print('Estadístico: %.3f' % dw)\n",
    "\n",
    "    # interpretar el resultado\n",
    "    if dw > 1.5 and dw < 2.5:\n",
    "        return True\n",
    "    else:\n",
    "        print('Hay evidencia de autocorrelación')\n",
    "        return False\n"
   ]
  },
  {
   "attachments": {},
   "cell_type": "markdown",
   "metadata": {},
   "source": [
    "### Anova"
   ]
  },
  {
   "cell_type": "code",
   "execution_count": null,
   "metadata": {},
   "outputs": [],
   "source": [
    "def mean_age(f, age, nl):\n",
    "\n",
    "    # Crear el modelo lineal\n",
    "    model = ols('age ~ f', data=nl).fit()\n",
    "\n",
    "    # Crear la tabla ANOVA\n",
    "    table = sm.stats.anova_lm(model, typ=2)\n",
    "    resid = model.resid\n",
    "\n",
    "    # Obtener el valor p del test F\n",
    "    p = table['PR(>F)'][0]\n",
    "\n",
    "    print('ANOVA de un factor')\n",
    "\n",
    "    print('El valor p es', p)\n",
    "\n",
    "    if p >= 0.01 and test_shapiro(nl, f) and test_bartlett(nl, f) and test_dw(resid):\n",
    "        print('No hay diferencias significativas entre las medias de los equipos')\n",
    "    else:\n",
    "        print('Hay diferencias significativas entre las medias de los equipos')\n"
   ]
  },
  {
   "attachments": {},
   "cell_type": "markdown",
   "metadata": {},
   "source": [
    "### Inciso a"
   ]
  },
  {
   "cell_type": "code",
   "execution_count": null,
   "metadata": {},
   "outputs": [],
   "source": [
    "f = nl['Tm']\n",
    "\n",
    "mean_age(f, age, nl)\n"
   ]
  },
  {
   "attachments": {},
   "cell_type": "markdown",
   "metadata": {},
   "source": [
    "### Inciso b"
   ]
  },
  {
   "cell_type": "code",
   "execution_count": null,
   "metadata": {},
   "outputs": [],
   "source": [
    "new_nl = nl[nl['Tm'].isin(['PIT', 'SDP', 'WSN', 'ATL'])]\n",
    "f = new_nl['Tm']\n",
    "new_age = new_nl['Age']\n",
    "\n",
    "mean_age(f, new_age, new_nl)\n"
   ]
  },
  {
   "attachments": {},
   "cell_type": "markdown",
   "metadata": {},
   "source": [
    "### Inciso c"
   ]
  },
  {
   "cell_type": "code",
   "execution_count": null,
   "metadata": {},
   "outputs": [],
   "source": [
    "# Agrupar por equipo y calcular medias\n",
    "new_nl = nl.groupby('Tm').mean()\n",
    "\n",
    "# Transponer el dataframe\n",
    "new_nl = new_nl.transpose()\n",
    "\n",
    "# Convertir a array de numpy\n",
    "X = new_nl.to_numpy()\n",
    "\n",
    "# Reducir la dimensión a 2 componentes usando PCA\n",
    "pca = PCA(n_components=2)\n",
    "X_pca = pca.fit_transform(X)\n",
    "\n",
    "# Crear el árbol jerárquico usando AgglomerativeClustering con 4 clústeres\n",
    "ac = AgglomerativeClustering(n_clusters=4)\n",
    "C = ac.fit_predict(X_pca)\n",
    "\n",
    "# Asignar clústeres a equipos\n",
    "clusters = dict(zip(new_nl.columns, C))\n",
    "\n",
    "# Visualizar los clústeres usando un gráfico de dispersión con seaborn\n",
    "sns.scatterplot(x=X_pca[:,0], y=X_pca[:,1], hue=C, palette='Set1')\n",
    "plt.show()\n"
   ]
  }
 ],
 "metadata": {
  "kernelspec": {
   "display_name": "Python 3",
   "language": "python",
   "name": "python3"
  },
  "language_info": {
   "codemirror_mode": {
    "name": "ipython",
    "version": 3
   },
   "file_extension": ".py",
   "mimetype": "text/x-python",
   "name": "python",
   "nbconvert_exporter": "python",
   "pygments_lexer": "ipython3",
   "version": "3.10.6"
  },
  "orig_nbformat": 4
 },
 "nbformat": 4,
 "nbformat_minor": 2
}
